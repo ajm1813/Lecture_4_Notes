{
 "cells": [
  {
   "cell_type": "markdown",
   "metadata": {},
   "source": [
    "## Boolean Section\n",
    "Below are only a few examples of how cool Booles can be!\n",
    "\n",
    "But this is only an intro: for much more, read about deMorgan's Law: \n",
    "https://www.ics.uci.edu/~pattis/ICS-31/lectures/simplify/lecture.html"
   ]
  },
  {
   "cell_type": "code",
   "execution_count": 10,
   "metadata": {},
   "outputs": [
    {
     "data": {
      "text/plain": [
       "False"
      ]
     },
     "execution_count": 10,
     "metadata": {},
     "output_type": "execute_result"
    }
   ],
   "source": [
    "##String comparisons\n",
    "\n",
    "\"cat\" > \"dog\" # False\n",
    "# \"kitty\" > \"dog\" #True... what do you think is going on here? It's not strig length!\n",
    "# \"ki\" > \"dog\" # Python compares \"lexicographically\", aka it compares ascii char values\n",
    "# \"cat\" > \"doggy\" #False\n",
    "# \"cat\" < \"doggy\" #True\n",
    "# \"kitty\" == \"doggy\" #False"
   ]
  },
  {
   "cell_type": "code",
   "execution_count": 11,
   "metadata": {},
   "outputs": [
    {
     "name": "stdout",
     "output_type": "stream",
     "text": [
      "<class 'bool'>\n"
     ]
    },
    {
     "data": {
      "text/plain": [
       "True"
      ]
     },
     "execution_count": 11,
     "metadata": {},
     "output_type": "execute_result"
    }
   ],
   "source": [
    "# given two booleans P and Q\n",
    "P = True\n",
    "Q = False\n",
    "print(type(P)) #<class 'bool'>\n",
    "\n",
    "P and not Q  # True\n",
    "# not P and Q  # False\n",
    "# not (P and Q)  # True: Evaluate parens first...\n",
    "# (not P) or (not Q)  # True"
   ]
  },
  {
   "cell_type": "code",
   "execution_count": 3,
   "metadata": {},
   "outputs": [
    {
     "data": {
      "text/plain": [
       "'lizard'"
      ]
     },
     "execution_count": 3,
     "metadata": {},
     "output_type": "execute_result"
    }
   ],
   "source": [
    "# Assign str value to a variable\n",
    "pet = \"dog\"\n",
    "\n",
    "# It is NOT the case that pet is \"cat\"\n",
    "not pet == \"cat\"  # True\n",
    "\n",
    "# pet is \"cat\" OR \"dog\"\n",
    "pet == \"cat\" or pet == \"dog\"  # True\n",
    "\n",
    "# This doesn't work (operators are applied left-to-right; \n",
    "# check the type at each step!)\n",
    "pet == \"cat\" or \"lizard\"  # \"lizard\""
   ]
  },
  {
   "cell_type": "markdown",
   "metadata": {},
   "source": [
    "## Conditionals Examples"
   ]
  },
  {
   "cell_type": "code",
   "execution_count": 15,
   "metadata": {},
   "outputs": [
    {
     "name": "stdout",
     "output_type": "stream",
     "text": [
      "This oatmeal is NOT too hot!\n",
      "Time for a nap!\n"
     ]
    }
   ],
   "source": [
    "oatmeal_temp = 40  # temperature in degrees F\n",
    "\n",
    "if oatmeal_temp > 120:\n",
    "    print(\"This oatmeal is too hot!\")\n",
    "else:\n",
    "    print(\"This oatmeal is NOT too hot!\")\n",
    "\n",
    "# too_cold = oatmeal_temp < 70  # a boolean variable\n",
    "# if too_cold:\n",
    "#     print(\"This oatmeal is too cold!\")\n",
    "\n",
    "# This line is outside the block, so is not part of \n",
    "# the conditional (it will always be executed)\n",
    "print(\"Time for a nap!\")"
   ]
  },
  {
   "cell_type": "code",
   "execution_count": 24,
   "metadata": {},
   "outputs": [
    {
     "name": "stdout",
     "output_type": "stream",
     "text": [
      "Wear a jacket\n"
     ]
    }
   ],
   "source": [
    "##Demonstrates elif \"else if\"\n",
    "\n",
    "if outside_temperature < 60:\n",
    "    print(\"Wear a jacket\")\n",
    "elif outside_temperature > 90:\n",
    "    print(\"Wear sunscreen\")\n",
    "elif outside_temperature == 72:\n",
    "    print(\"Perfect weather!\")\n",
    "else:\n",
    "    print(\"Wear a t-shirt\")"
   ]
  },
  {
   "cell_type": "code",
   "execution_count": 39,
   "metadata": {},
   "outputs": [
    {
     "name": "stdout",
     "output_type": "stream",
     "text": [
      "Wear snow pants\n",
      "Wear a jacket\n"
     ]
    }
   ],
   "source": [
    "temperature = 20\n",
    "#temperature = 50\n",
    "if temperature < 30:\n",
    "    print(\"Wear snow pants\")\n",
    "elif temperature < 60:\n",
    "    print(\"Wear a jacket\")\n",
    "\n",
    "\n",
    "# if temperature < 30:\n",
    "#     print(\"Wear snow pants\")\n",
    "# if temperature < 60:\n",
    "#     print(\"Wear a jacket\")\n",
    "\n",
    "if temperature < 60:\n",
    "    print(\"Wear a jacket\")\n",
    "elif temperature < 30:\n",
    "    print(\"Wear snow pants\")"
   ]
  },
  {
   "cell_type": "markdown",
   "metadata": {},
   "source": [
    "## Loops and Iteration Section\n",
    "\n",
    "Below are only a few examples of how to loop"
   ]
  },
  {
   "cell_type": "code",
   "execution_count": 18,
   "metadata": {},
   "outputs": [
    {
     "ename": "ModuleNotFoundError",
     "evalue": "No module named 'test_script.py'; 'test_script' is not a package",
     "output_type": "error",
     "traceback": [
      "\u001b[1;31m---------------------------------------------------------------------------\u001b[0m",
      "\u001b[1;31mModuleNotFoundError\u001b[0m                       Traceback (most recent call last)",
      "\u001b[1;32m<ipython-input-18-209294c92d64>\u001b[0m in \u001b[0;36m<module>\u001b[1;34m()\u001b[0m\n\u001b[1;32m----> 1\u001b[1;33m \u001b[1;32mfrom\u001b[0m \u001b[0mtest_script\u001b[0m\u001b[1;33m.\u001b[0m\u001b[0mpy\u001b[0m \u001b[1;32mimport\u001b[0m \u001b[1;33m*\u001b[0m\u001b[1;33m\u001b[0m\u001b[0m\n\u001b[0m\u001b[0;32m      2\u001b[0m \u001b[0mhello_script\u001b[0m\u001b[1;33m(\u001b[0m\u001b[1;33m)\u001b[0m\u001b[1;33m\u001b[0m\u001b[0m\n",
      "\u001b[1;31mModuleNotFoundError\u001b[0m: No module named 'test_script.py'; 'test_script' is not a package"
     ]
    }
   ],
   "source": []
  },
  {
   "cell_type": "code",
   "execution_count": null,
   "metadata": {},
   "outputs": [],
   "source": []
  }
 ],
 "metadata": {
  "kernelspec": {
   "display_name": "Python 3",
   "language": "python",
   "name": "python3"
  },
  "language_info": {
   "codemirror_mode": {
    "name": "ipython",
    "version": 3
   },
   "file_extension": ".py",
   "mimetype": "text/x-python",
   "name": "python",
   "nbconvert_exporter": "python",
   "pygments_lexer": "ipython3",
   "version": "3.7.0"
  }
 },
 "nbformat": 4,
 "nbformat_minor": 2
}
